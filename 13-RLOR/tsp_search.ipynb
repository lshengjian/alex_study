{
  "cells": [
    {
      "cell_type": "code",
      "execution_count": 7,
      "id": "5a69iB04JzY2",
      "metadata": {
        "colab": {
          "base_uri": "https://localhost:8080/"
        },
        "id": "5a69iB04JzY2",
        "outputId": "13a3a63e-34bf-4d8b-a853-9d2597cd03d5"
      },
      "outputs": [],
      "source": [
        "# !git clone https://github.com/cpwan/RLOR\n",
        "# %cd RLOR"
      ]
    },
    {
      "cell_type": "code",
      "execution_count": 1,
      "id": "dbe3c5ed",
      "metadata": {
        "id": "dbe3c5ed"
      },
      "outputs": [],
      "source": [
        "import numpy as np\n",
        "import torch\n",
        "import gym\n",
        "from models.attention_model_wrapper import Agent"
      ]
    },
    {
      "cell_type": "markdown",
      "id": "985bf6e6",
      "metadata": {
        "id": "985bf6e6"
      },
      "source": [
        "# Define our agent"
      ]
    },
    {
      "cell_type": "code",
      "execution_count": 2,
      "id": "953a7fde",
      "metadata": {
        "colab": {
          "base_uri": "https://localhost:8080/"
        },
        "id": "953a7fde",
        "outputId": "06f10aaf-57ca-4870-d22b-f71a14ea4ec4"
      },
      "outputs": [
        {
          "data": {
            "text/plain": [
              "<All keys matched successfully>"
            ]
          },
          "execution_count": 2,
          "metadata": {},
          "output_type": "execute_result"
        }
      ],
      "source": [
        "device = 'cpu'\n",
        "ckpt_path = './data/tsp-12000.pt'\n",
        "agent = Agent(device=device, name='tsp').to(device)\n",
        "agent.load_state_dict(torch.load(ckpt_path,map_location='cpu'))"
      ]
    },
    {
      "cell_type": "markdown",
      "id": "2cbaa255",
      "metadata": {
        "id": "2cbaa255"
      },
      "source": [
        "# Define our environment"
      ]
    },
    {
      "cell_type": "code",
      "execution_count": 3,
      "id": "c2bd466f",
      "metadata": {
        "colab": {
          "base_uri": "https://localhost:8080/"
        },
        "id": "c2bd466f",
        "outputId": "92450c8d-f5db-444d-f465-da4a98667799"
      },
      "outputs": [
        {
          "name": "stderr",
          "output_type": "stream",
          "text": [
            "d:\\apps\\miniconda3\\lib\\site-packages\\gym\\utils\\passive_env_checker.py:31: UserWarning: \u001b[33mWARN: A Box observation space has an unconventional shape (neither an image, nor a 1D vector). We recommend flattening the observation to have only a 1D vector or use a custom policy to properly process the data. Actual observation shape: (5, 2)\u001b[0m\n",
            "  logger.warn(\n",
            "d:\\apps\\miniconda3\\lib\\site-packages\\gymnasium\\core.py:311: UserWarning: \u001b[33mWARN: env.seed to get variables from other wrappers is deprecated and will be removed in v1.0, to get this variable you can do `env.unwrapped.seed` for environment variables or `env.get_wrapper_attr('seed')` that will search the reminding wrappers.\u001b[0m\n",
            "  logger.warn(\n"
          ]
        }
      ],
      "source": [
        "from wrappers.syncVectorEnvPomo import SyncVectorEnv\n",
        "from wrappers.recordWrapper import RecordEpisodeStatistics\n",
        "\n",
        "env_id = 'tsp-v0'\n",
        "env_entry_point = 'envs.tsp_vector_env:TSPVectorEnv'\n",
        "seed = 0\n",
        "\n",
        "gym.envs.register(\n",
        "    id=env_id,\n",
        "    entry_point=env_entry_point,\n",
        ")\n",
        "\n",
        "def make_env(env_id, seed, cfg={}):\n",
        "    def thunk():\n",
        "        env = gym.make(env_id, **cfg)\n",
        "        env = RecordEpisodeStatistics(env)\n",
        "        env.seed(seed)\n",
        "        env.action_space.seed(seed)\n",
        "        env.observation_space.seed(seed)\n",
        "        return env\n",
        "    return thunk\n",
        "\n",
        "envs = SyncVectorEnv([make_env(env_id, seed, dict(n_traj=1))])"
      ]
    },
    {
      "cell_type": "markdown",
      "id": "c363d489",
      "metadata": {
        "id": "c363d489"
      },
      "source": [
        "# Inference"
      ]
    },
    {
      "cell_type": "code",
      "execution_count": 4,
      "id": "bbee9e3c",
      "metadata": {
        "colab": {
          "base_uri": "https://localhost:8080/"
        },
        "id": "bbee9e3c",
        "outputId": "11750d60-eb7c-4d9c-8b40-3a8a92021ffe"
      },
      "outputs": [
        {
          "name": "stderr",
          "output_type": "stream",
          "text": [
            "d:\\apps\\miniconda3\\lib\\site-packages\\gym\\utils\\passive_env_checker.py:174: UserWarning: \u001b[33mWARN: Future gym versions will require that `Env.reset` can be passed a `seed` instead of using `Env.seed` for resetting the environment random number generator.\u001b[0m\n",
            "  logger.warn(\n",
            "d:\\apps\\miniconda3\\lib\\site-packages\\gym\\utils\\passive_env_checker.py:187: UserWarning: \u001b[33mWARN: Future gym versions will require that `Env.reset` can be passed `options` to allow the environment initialisation to be passed additional information.\u001b[0m\n",
            "  logger.warn(\n"
          ]
        },
        {
          "ename": "TypeError",
          "evalue": "reset() got an unexpected keyword argument 'seed'",
          "output_type": "error",
          "traceback": [
            "\u001b[1;31m---------------------------------------------------------------------------\u001b[0m",
            "\u001b[1;31mTypeError\u001b[0m                                 Traceback (most recent call last)",
            "Cell \u001b[1;32mIn[4], line 4\u001b[0m\n\u001b[0;32m      2\u001b[0m trajectories \u001b[38;5;241m=\u001b[39m []\n\u001b[0;32m      3\u001b[0m agent\u001b[38;5;241m.\u001b[39meval()\n\u001b[1;32m----> 4\u001b[0m obs \u001b[38;5;241m=\u001b[39m \u001b[43menvs\u001b[49m\u001b[38;5;241;43m.\u001b[39;49m\u001b[43mreset\u001b[49m\u001b[43m(\u001b[49m\u001b[43m)\u001b[49m\n\u001b[0;32m      5\u001b[0m \u001b[38;5;28;01mfor\u001b[39;00m step \u001b[38;5;129;01min\u001b[39;00m \u001b[38;5;28mrange\u001b[39m(\u001b[38;5;241m0\u001b[39m, num_steps):\n\u001b[0;32m      6\u001b[0m     \u001b[38;5;66;03m# ALGO LOGIC: action logic\u001b[39;00m\n\u001b[0;32m      7\u001b[0m     \u001b[38;5;28;01mwith\u001b[39;00m torch\u001b[38;5;241m.\u001b[39mno_grad():\n",
            "File \u001b[1;32md:\\apps\\miniconda3\\lib\\site-packages\\gym\\vector\\vector_env.py:104\u001b[0m, in \u001b[0;36mVectorEnv.reset\u001b[1;34m(self, seed, options)\u001b[0m\n\u001b[0;32m     94\u001b[0m \u001b[38;5;250m\u001b[39m\u001b[38;5;124;03m\"\"\"Reset all parallel environments and return a batch of initial observations.\u001b[39;00m\n\u001b[0;32m     95\u001b[0m \n\u001b[0;32m     96\u001b[0m \u001b[38;5;124;03mArgs:\u001b[39;00m\n\u001b[1;32m   (...)\u001b[0m\n\u001b[0;32m    101\u001b[0m \u001b[38;5;124;03m    A batch of observations from the vectorized environment.\u001b[39;00m\n\u001b[0;32m    102\u001b[0m \u001b[38;5;124;03m\"\"\"\u001b[39;00m\n\u001b[0;32m    103\u001b[0m \u001b[38;5;28mself\u001b[39m\u001b[38;5;241m.\u001b[39mreset_async(seed\u001b[38;5;241m=\u001b[39mseed, options\u001b[38;5;241m=\u001b[39moptions)\n\u001b[1;32m--> 104\u001b[0m \u001b[38;5;28;01mreturn\u001b[39;00m \u001b[38;5;28;43mself\u001b[39;49m\u001b[38;5;241;43m.\u001b[39;49m\u001b[43mreset_wait\u001b[49m\u001b[43m(\u001b[49m\u001b[43mseed\u001b[49m\u001b[38;5;241;43m=\u001b[39;49m\u001b[43mseed\u001b[49m\u001b[43m,\u001b[49m\u001b[43m \u001b[49m\u001b[43moptions\u001b[49m\u001b[38;5;241;43m=\u001b[39;49m\u001b[43moptions\u001b[49m\u001b[43m)\u001b[49m\n",
            "File \u001b[1;32md:\\git_roots\\my_prjs\\alex_study\\13-RLOR\\wrappers\\syncVectorEnvPomo.py:113\u001b[0m, in \u001b[0;36mSyncVectorEnv.reset_wait\u001b[1;34m(self, seed, return_info, options)\u001b[0m\n\u001b[0;32m    110\u001b[0m     kwargs[\u001b[38;5;124m\"\u001b[39m\u001b[38;5;124mreturn_info\u001b[39m\u001b[38;5;124m\"\u001b[39m] \u001b[38;5;241m=\u001b[39m return_info\n\u001b[0;32m    112\u001b[0m \u001b[38;5;28;01mif\u001b[39;00m \u001b[38;5;129;01mnot\u001b[39;00m return_info:\n\u001b[1;32m--> 113\u001b[0m     observation \u001b[38;5;241m=\u001b[39m env\u001b[38;5;241m.\u001b[39mreset(\u001b[38;5;241m*\u001b[39m\u001b[38;5;241m*\u001b[39mkwargs)\n\u001b[0;32m    114\u001b[0m     observations\u001b[38;5;241m.\u001b[39mappend(observation)\n\u001b[0;32m    115\u001b[0m \u001b[38;5;28;01melse\u001b[39;00m:\n",
            "File \u001b[1;32md:\\git_roots\\my_prjs\\alex_study\\13-RLOR\\wrappers\\recordWrapper.py:22\u001b[0m, in \u001b[0;36mRecordEpisodeStatistics.reset\u001b[1;34m(self, **kwargs)\u001b[0m\n\u001b[0;32m     21\u001b[0m \u001b[38;5;28;01mdef\u001b[39;00m \u001b[38;5;21mreset\u001b[39m(\u001b[38;5;28mself\u001b[39m, \u001b[38;5;241m*\u001b[39m\u001b[38;5;241m*\u001b[39mkwargs):\n\u001b[1;32m---> 22\u001b[0m     observations \u001b[38;5;241m=\u001b[39m \u001b[38;5;28msuper\u001b[39m()\u001b[38;5;241m.\u001b[39mreset(\u001b[38;5;241m*\u001b[39m\u001b[38;5;241m*\u001b[39mkwargs)\n\u001b[0;32m     23\u001b[0m     \u001b[38;5;28mself\u001b[39m\u001b[38;5;241m.\u001b[39mepisode_returns \u001b[38;5;241m=\u001b[39m np\u001b[38;5;241m.\u001b[39mzeros((\u001b[38;5;28mself\u001b[39m\u001b[38;5;241m.\u001b[39mnum_envs, \u001b[38;5;28mself\u001b[39m\u001b[38;5;241m.\u001b[39mn_traj), dtype\u001b[38;5;241m=\u001b[39m\u001b[38;5;28mfloat\u001b[39m)\n\u001b[0;32m     24\u001b[0m     \u001b[38;5;28mself\u001b[39m\u001b[38;5;241m.\u001b[39mepisode_lengths \u001b[38;5;241m=\u001b[39m np\u001b[38;5;241m.\u001b[39mzeros(\u001b[38;5;28mself\u001b[39m\u001b[38;5;241m.\u001b[39mnum_envs, dtype\u001b[38;5;241m=\u001b[39m\u001b[38;5;28mint\u001b[39m)\n",
            "File \u001b[1;32md:\\apps\\miniconda3\\lib\\site-packages\\gymnasium\\core.py:467\u001b[0m, in \u001b[0;36mWrapper.reset\u001b[1;34m(self, seed, options)\u001b[0m\n\u001b[0;32m    463\u001b[0m \u001b[38;5;28;01mdef\u001b[39;00m \u001b[38;5;21mreset\u001b[39m(\n\u001b[0;32m    464\u001b[0m     \u001b[38;5;28mself\u001b[39m, \u001b[38;5;241m*\u001b[39m, seed: \u001b[38;5;28mint\u001b[39m \u001b[38;5;241m|\u001b[39m \u001b[38;5;28;01mNone\u001b[39;00m \u001b[38;5;241m=\u001b[39m \u001b[38;5;28;01mNone\u001b[39;00m, options: \u001b[38;5;28mdict\u001b[39m[\u001b[38;5;28mstr\u001b[39m, Any] \u001b[38;5;241m|\u001b[39m \u001b[38;5;28;01mNone\u001b[39;00m \u001b[38;5;241m=\u001b[39m \u001b[38;5;28;01mNone\u001b[39;00m\n\u001b[0;32m    465\u001b[0m ) \u001b[38;5;241m-\u001b[39m\u001b[38;5;241m>\u001b[39m \u001b[38;5;28mtuple\u001b[39m[WrapperObsType, \u001b[38;5;28mdict\u001b[39m[\u001b[38;5;28mstr\u001b[39m, Any]]:\n\u001b[0;32m    466\u001b[0m \u001b[38;5;250m    \u001b[39m\u001b[38;5;124;03m\"\"\"Uses the :meth:`reset` of the :attr:`env` that can be overwritten to change the returned data.\"\"\"\u001b[39;00m\n\u001b[1;32m--> 467\u001b[0m     \u001b[38;5;28;01mreturn\u001b[39;00m \u001b[38;5;28;43mself\u001b[39;49m\u001b[38;5;241;43m.\u001b[39;49m\u001b[43menv\u001b[49m\u001b[38;5;241;43m.\u001b[39;49m\u001b[43mreset\u001b[49m\u001b[43m(\u001b[49m\u001b[43mseed\u001b[49m\u001b[38;5;241;43m=\u001b[39;49m\u001b[43mseed\u001b[49m\u001b[43m,\u001b[49m\u001b[43m \u001b[49m\u001b[43moptions\u001b[49m\u001b[38;5;241;43m=\u001b[39;49m\u001b[43moptions\u001b[49m\u001b[43m)\u001b[49m\n",
            "File \u001b[1;32md:\\apps\\miniconda3\\lib\\site-packages\\gym\\wrappers\\order_enforcing.py:42\u001b[0m, in \u001b[0;36mOrderEnforcing.reset\u001b[1;34m(self, **kwargs)\u001b[0m\n\u001b[0;32m     40\u001b[0m \u001b[38;5;250m\u001b[39m\u001b[38;5;124;03m\"\"\"Resets the environment with `kwargs`.\"\"\"\u001b[39;00m\n\u001b[0;32m     41\u001b[0m \u001b[38;5;28mself\u001b[39m\u001b[38;5;241m.\u001b[39m_has_reset \u001b[38;5;241m=\u001b[39m \u001b[38;5;28;01mTrue\u001b[39;00m\n\u001b[1;32m---> 42\u001b[0m \u001b[38;5;28;01mreturn\u001b[39;00m \u001b[38;5;28mself\u001b[39m\u001b[38;5;241m.\u001b[39menv\u001b[38;5;241m.\u001b[39mreset(\u001b[38;5;241m*\u001b[39m\u001b[38;5;241m*\u001b[39mkwargs)\n",
            "File \u001b[1;32md:\\apps\\miniconda3\\lib\\site-packages\\gym\\wrappers\\env_checker.py:45\u001b[0m, in \u001b[0;36mPassiveEnvChecker.reset\u001b[1;34m(self, **kwargs)\u001b[0m\n\u001b[0;32m     43\u001b[0m \u001b[38;5;28;01mif\u001b[39;00m \u001b[38;5;28mself\u001b[39m\u001b[38;5;241m.\u001b[39mchecked_reset \u001b[38;5;129;01mis\u001b[39;00m \u001b[38;5;28;01mFalse\u001b[39;00m:\n\u001b[0;32m     44\u001b[0m     \u001b[38;5;28mself\u001b[39m\u001b[38;5;241m.\u001b[39mchecked_reset \u001b[38;5;241m=\u001b[39m \u001b[38;5;28;01mTrue\u001b[39;00m\n\u001b[1;32m---> 45\u001b[0m     \u001b[38;5;28;01mreturn\u001b[39;00m env_reset_passive_checker(\u001b[38;5;28mself\u001b[39m\u001b[38;5;241m.\u001b[39menv, \u001b[38;5;241m*\u001b[39m\u001b[38;5;241m*\u001b[39mkwargs)\n\u001b[0;32m     46\u001b[0m \u001b[38;5;28;01melse\u001b[39;00m:\n\u001b[0;32m     47\u001b[0m     \u001b[38;5;28;01mreturn\u001b[39;00m \u001b[38;5;28mself\u001b[39m\u001b[38;5;241m.\u001b[39menv\u001b[38;5;241m.\u001b[39mreset(\u001b[38;5;241m*\u001b[39m\u001b[38;5;241m*\u001b[39mkwargs)\n",
            "File \u001b[1;32md:\\apps\\miniconda3\\lib\\site-packages\\gym\\utils\\passive_env_checker.py:192\u001b[0m, in \u001b[0;36menv_reset_passive_checker\u001b[1;34m(env, **kwargs)\u001b[0m\n\u001b[0;32m    187\u001b[0m     logger\u001b[38;5;241m.\u001b[39mwarn(\n\u001b[0;32m    188\u001b[0m         \u001b[38;5;124m\"\u001b[39m\u001b[38;5;124mFuture gym versions will require that `Env.reset` can be passed `options` to allow the environment initialisation to be passed additional information.\u001b[39m\u001b[38;5;124m\"\u001b[39m\n\u001b[0;32m    189\u001b[0m     )\n\u001b[0;32m    191\u001b[0m \u001b[38;5;66;03m# Checks the result of env.reset with kwargs\u001b[39;00m\n\u001b[1;32m--> 192\u001b[0m result \u001b[38;5;241m=\u001b[39m env\u001b[38;5;241m.\u001b[39mreset(\u001b[38;5;241m*\u001b[39m\u001b[38;5;241m*\u001b[39mkwargs)\n\u001b[0;32m    194\u001b[0m \u001b[38;5;28;01mif\u001b[39;00m \u001b[38;5;129;01mnot\u001b[39;00m \u001b[38;5;28misinstance\u001b[39m(result, \u001b[38;5;28mtuple\u001b[39m):\n\u001b[0;32m    195\u001b[0m     logger\u001b[38;5;241m.\u001b[39mwarn(\n\u001b[0;32m    196\u001b[0m         \u001b[38;5;124mf\u001b[39m\u001b[38;5;124m\"\u001b[39m\u001b[38;5;124mThe result returned by `env.reset()` was not a tuple of the form `(obs, info)`, where `obs` is a observation and `info` is a dictionary containing additional information. Actual type: `\u001b[39m\u001b[38;5;132;01m{\u001b[39;00m\u001b[38;5;28mtype\u001b[39m(result)\u001b[38;5;132;01m}\u001b[39;00m\u001b[38;5;124m`\u001b[39m\u001b[38;5;124m\"\u001b[39m\n\u001b[0;32m    197\u001b[0m     )\n",
            "\u001b[1;31mTypeError\u001b[0m: reset() got an unexpected keyword argument 'seed'"
          ]
        }
      ],
      "source": [
        "num_steps = 51\n",
        "trajectories = []\n",
        "agent.eval()\n",
        "obs = envs.reset()\n",
        "for step in range(0, num_steps):\n",
        "    # ALGO LOGIC: action logic\n",
        "    with torch.no_grad():\n",
        "        action, logits = agent(obs)\n",
        "    obs, reward, done, info = envs.step(action.cpu().numpy())\n",
        "    trajectories.append(action.cpu().numpy())"
      ]
    },
    {
      "cell_type": "code",
      "execution_count": 12,
      "id": "f0fbf6fd",
      "metadata": {
        "id": "f0fbf6fd"
      },
      "outputs": [],
      "source": [
        "nodes_coordinates = obs['observations'][0]\n",
        "final_return = info[0]['episode']['r']\n",
        "resulting_traj = np.array(trajectories)[:,0,0]"
      ]
    },
    {
      "cell_type": "markdown",
      "id": "5n9rBoH5Q8gn",
      "metadata": {
        "id": "5n9rBoH5Q8gn"
      },
      "source": [
        "## Results"
      ]
    },
    {
      "cell_type": "code",
      "execution_count": 13,
      "id": "dff29ef4",
      "metadata": {
        "colab": {
          "base_uri": "https://localhost:8080/"
        },
        "id": "dff29ef4",
        "outputId": "dcffcda5-5728-464c-ee3e-0fcc702443ff"
      },
      "outputs": [
        {
          "name": "stdout",
          "output_type": "stream",
          "text": [
            "A route of length [-5.908508]\n",
            "The route is:\n",
            " [26 34 33 49 37 21 48 43 31 28 42 29 47 39 38 23 27 30  7 32 24 40 20 14\n",
            " 25  1 18 22  0 11  2 16 45 15 46 12 17 41  8 13  3  6 44  9 10 19 36  5\n",
            " 35  4 26]\n"
          ]
        }
      ],
      "source": [
        "print(f'A route of length {final_return}')\n",
        "print('The route is:\\n', resulting_traj)"
      ]
    },
    {
      "cell_type": "markdown",
      "id": "b009802e",
      "metadata": {
        "id": "b009802e"
      },
      "source": [
        "## Display it in a 2d-grid\n",
        "- Darker color means later steps in the route."
      ]
    },
    {
      "cell_type": "code",
      "execution_count": 14,
      "id": "dc681a06",
      "metadata": {
        "cellView": "form",
        "id": "dc681a06",
        "tags": [
          "\"hide-cell\""
        ]
      },
      "outputs": [],
      "source": [
        "#@title Helper function for plotting\n",
        "# colorline taken from https://nbviewer.org/github/dpsanders/matplotlib-examples/blob/master/colorline.ipynb\n",
        "import matplotlib.pyplot as plt\n",
        "from matplotlib.collections import LineCollection\n",
        "from matplotlib.colors import ListedColormap, BoundaryNorm\n",
        "\n",
        "def make_segments(x, y):\n",
        "    '''\n",
        "    Create list of line segments from x and y coordinates, in the correct format for LineCollection:\n",
        "    an array of the form   numlines x (points per line) x 2 (x and y) array\n",
        "    '''\n",
        "\n",
        "    points = np.array([x, y]).T.reshape(-1, 1, 2)\n",
        "    segments = np.concatenate([points[:-1], points[1:]], axis=1)\n",
        "    \n",
        "    return segments\n",
        "\n",
        "def colorline(x, y, z=None, cmap=plt.get_cmap('copper'), norm=plt.Normalize(0.0, 1.0), linewidth=1, alpha=1.0):\n",
        "    '''\n",
        "    Plot a colored line with coordinates x and y\n",
        "    Optionally specify colors in the array z\n",
        "    Optionally specify a colormap, a norm function and a line width\n",
        "    '''\n",
        "    \n",
        "    # Default colors equally spaced on [0,1]:\n",
        "    if z is None:\n",
        "        z = np.linspace(0.3, 1.0, len(x))\n",
        "           \n",
        "    # Special case if a single number:\n",
        "    if not hasattr(z, \"__iter__\"):  # to check for numerical input -- this is a hack\n",
        "        z = np.array([z])\n",
        "        \n",
        "    z = np.asarray(z)\n",
        "    \n",
        "    segments = make_segments(x, y)\n",
        "    lc = LineCollection(segments, array=z, cmap=cmap, norm=norm, linewidth=linewidth, alpha=alpha)\n",
        "    \n",
        "    ax = plt.gca()\n",
        "    ax.add_collection(lc)\n",
        "    \n",
        "    return lc\n",
        "\n",
        "def plot(coords):\n",
        "    x,y = coords.T\n",
        "    lc = colorline(x,y,cmap='Reds')\n",
        "    plt.axis('square')\n",
        "    return lc"
      ]
    },
    {
      "cell_type": "code",
      "execution_count": 15,
      "id": "bb0548fb",
      "metadata": {
        "colab": {
          "base_uri": "https://localhost:8080/",
          "height": 282
        },
        "id": "bb0548fb",
        "outputId": "3e967b86-32e9-4be3-e5b7-c8a457aa12a7"
      },
      "outputs": [
        {
          "data": {
            "text/plain": [
              "<matplotlib.collections.LineCollection at 0x1f70e8e7190>"
            ]
          },
          "execution_count": 15,
          "metadata": {},
          "output_type": "execute_result"
        },
        {
          "data": {
            "image/png": "[encoded data removed]",
            "text/plain": [
              "<Figure size 640x480 with 1 Axes>"
            ]
          },
          "metadata": {},
          "output_type": "display_data"
        }
      ],
      "source": [
        "plot(nodes_coordinates[resulting_traj])"
      ]
    }
  ],
  "metadata": {
    "accelerator": "GPU",
    "colab": {
      "provenance": []
    },
    "gpuClass": "standard",
    "kernelspec": {
      "display_name": "Python 3",
      "name": "python3"
    },
    "language_info": {
      "codemirror_mode": {
        "name": "ipython",
        "version": 3
      },
      "file_extension": ".py",
      "mimetype": "text/x-python",
      "name": "python",
      "nbconvert_exporter": "python",
      "pygments_lexer": "ipython3",
      "version": "3.9.19"
    }
  },
  "nbformat": 4,
  "nbformat_minor": 5
}
